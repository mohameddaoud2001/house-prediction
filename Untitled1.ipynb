{
 "cells": [
  {
   "cell_type": "code",
   "execution_count": 1,
   "id": "3e2997af-9e5d-4995-b676-e817ec4f294f",
   "metadata": {},
   "outputs": [
    {
     "ename": "AttributeError",
     "evalue": "'SolverResult' object has no attribute 'summary'",
     "output_type": "error",
     "traceback": [
      "\u001b[1;31m---------------------------------------------------------------------------\u001b[0m",
      "\u001b[1;31mAttributeError\u001b[0m                            Traceback (most recent call last)",
      "Cell \u001b[1;32mIn[1], line 34\u001b[0m\n\u001b[0;32m     31\u001b[0m result \u001b[38;5;241m=\u001b[39m model\u001b[38;5;241m.\u001b[39mfit(data)\n\u001b[0;32m     33\u001b[0m \u001b[38;5;66;03m# Print the results summary\u001b[39;00m\n\u001b[1;32m---> 34\u001b[0m \u001b[38;5;28mprint\u001b[39m(\u001b[43mresult\u001b[49m\u001b[38;5;241;43m.\u001b[39;49m\u001b[43msummary\u001b[49m())\n\u001b[0;32m     36\u001b[0m \u001b[38;5;66;03m# Access and print parameter estimates\u001b[39;00m\n\u001b[0;32m     37\u001b[0m \u001b[38;5;28mprint\u001b[39m(\u001b[38;5;124m\"\u001b[39m\u001b[38;5;124mParameter Estimates:\u001b[39m\u001b[38;5;124m\"\u001b[39m)\n",
      "\u001b[1;31mAttributeError\u001b[0m: 'SolverResult' object has no attribute 'summary'"
     ]
    }
   ],
   "source": [
    "import semopy\n",
    "import pandas as pd\n",
    "import numpy as np\n",
    "\n",
    "# Generate synthetic data\n",
    "np.random.seed(123)\n",
    "n_samples = 100\n",
    "latent = np.random.normal(0, 1, n_samples)\n",
    "observed1 = 0.7 * latent + np.random.normal(0, 0.2, n_samples)\n",
    "observed2 = 0.5 * latent + np.random.normal(0, 0.3, n_samples)\n",
    "\n",
    "# Create a DataFrame with the synthetic data\n",
    "data = pd.DataFrame({'Observed1': observed1, 'Observed2': observed2, 'e1': np.random.normal(0, 0.2, n_samples), 'e2': np.random.normal(0, 0.3, n_samples), 'Latent': latent})\n",
    "\n",
    "# Define the SEM model with equations\n",
    "model_desc = \"\"\"\n",
    "# Measurement model for Observed1\n",
    "Observed1 =~ a * Latent + e1\n",
    "\n",
    "# Measurement model for Observed2\n",
    "Observed2 =~ b * Latent + e2\n",
    "\n",
    "# Structural equation linking Latent to Observed1 and Observed2\n",
    "Latent ~ c * Observed1 + d * Observed2\n",
    "\"\"\"\n",
    "\n",
    "# Create the SEM model\n",
    "model = semopy.Model(model_desc)\n",
    "\n",
    "# Fit the model to the data\n",
    "result = model.fit(data)\n",
    "\n",
    "# Print the results summary\n",
    "print(result.summary())\n",
    "\n",
    "# Access and print parameter estimates\n",
    "print(\"Parameter Estimates:\")\n",
    "print(result.params)\n",
    "\n",
    "# Access and print standard errors\n",
    "print(\"Standard Errors:\")\n",
    "print(result.std_errors)\n",
    "\n",
    "# Perform hypothesis test\n",
    "hypo_test = result.hypothesis('parameter_name = 0')\n",
    "print(hypo_test)\n"
   ]
  },
  {
   "cell_type": "code",
   "execution_count": null,
   "id": "c0d17ab0-d6bc-498b-8553-9375c0fdd4c8",
   "metadata": {},
   "outputs": [],
   "source": []
  }
 ],
 "metadata": {
  "kernelspec": {
   "display_name": "Python 3 (ipykernel)",
   "language": "python",
   "name": "python3"
  },
  "language_info": {
   "codemirror_mode": {
    "name": "ipython",
    "version": 3
   },
   "file_extension": ".py",
   "mimetype": "text/x-python",
   "name": "python",
   "nbconvert_exporter": "python",
   "pygments_lexer": "ipython3",
   "version": "3.11.4"
  }
 },
 "nbformat": 4,
 "nbformat_minor": 5
}
