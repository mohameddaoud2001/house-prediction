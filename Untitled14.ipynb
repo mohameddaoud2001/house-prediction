{
 "cells": [
  {
   "cell_type": "code",
   "execution_count": 1,
   "id": "d11d3caa-5aa6-44da-833c-a118703a27ce",
   "metadata": {},
   "outputs": [],
   "source": [
    "import requests\n",
    "import sqlite3\n"
   ]
  },
  {
   "cell_type": "code",
   "execution_count": 2,
   "id": "3bc5df08-c63a-402a-a888-e94fc3f9b7ea",
   "metadata": {},
   "outputs": [],
   "source": [
    "api_url = 'https://jsonplaceholder.typicode.com/posts'\n",
    "response = requests.get(api_url)\n",
    "\n",
    "# Check if the request was successful\n",
    "if response.status_code == 200:\n",
    "    data = response.json()\n",
    "else:\n",
    "    print(\"API request failed.\")\n",
    "    data = []\n"
   ]
  },
  {
   "cell_type": "code",
   "execution_count": 3,
   "id": "27f6454c-42f6-4405-8f20-588fb9d92905",
   "metadata": {},
   "outputs": [],
   "source": [
    "# Create a database connection\n",
    "conn = sqlite3.connect('sample_data.db')\n",
    "\n",
    "# Create a cursor object to execute SQL commands\n",
    "cursor = conn.cursor()\n",
    "\n",
    "# Define the SQL query to create a table\n",
    "create_table_query = '''\n",
    "CREATE TABLE IF NOT EXISTS posts (\n",
    "    id INTEGER PRIMARY KEY,\n",
    "    userId INTEGER,\n",
    "    title TEXT,\n",
    "    body TEXT\n",
    ");\n",
    "'''\n",
    "\n",
    "# Execute the query to create the table\n",
    "cursor.execute(create_table_query)\n",
    "\n",
    "# Commit the changes and close the database connection\n",
    "conn.commit()\n",
    "conn.close()\n"
   ]
  },
  {
   "cell_type": "code",
   "execution_count": 4,
   "id": "636c3b1c-eaa5-44b4-bd38-40a32deb362c",
   "metadata": {},
   "outputs": [],
   "source": [
    "# Open a new connection\n",
    "conn = sqlite3.connect('sample_data.db')\n",
    "cursor = conn.cursor()\n",
    "\n",
    "# Insert data into the 'posts' table\n",
    "for post in data:\n",
    "    cursor.execute(\"INSERT INTO posts (userId, title, body) VALUES (?, ?, ?)\", (post['userId'], post['title'], post['body']))\n",
    "\n",
    "# Commit the changes and close the database connection\n",
    "conn.commit()\n",
    "conn.close()\n"
   ]
  },
  {
   "cell_type": "code",
   "execution_count": null,
   "id": "de7301ed-8152-4ded-b375-f1745ec5d418",
   "metadata": {},
   "outputs": [],
   "source": []
  }
 ],
 "metadata": {
  "kernelspec": {
   "display_name": "Python 3 (ipykernel)",
   "language": "python",
   "name": "python3"
  },
  "language_info": {
   "codemirror_mode": {
    "name": "ipython",
    "version": 3
   },
   "file_extension": ".py",
   "mimetype": "text/x-python",
   "name": "python",
   "nbconvert_exporter": "python",
   "pygments_lexer": "ipython3",
   "version": "3.11.4"
  }
 },
 "nbformat": 4,
 "nbformat_minor": 5
}
