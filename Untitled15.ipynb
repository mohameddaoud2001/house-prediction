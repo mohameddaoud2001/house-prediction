{
 "cells": [
  {
   "cell_type": "code",
   "execution_count": 1,
   "id": "fa88d896-1a28-49f1-962d-37b4f996fda4",
   "metadata": {},
   "outputs": [
    {
     "ename": "SyntaxError",
     "evalue": "invalid syntax (3293851764.py, line 28)",
     "output_type": "error",
     "traceback": [
      "\u001b[1;36m  Cell \u001b[1;32mIn[1], line 28\u001b[1;36m\u001b[0m\n\u001b[1;33m    SELECT COUNT(*) FROM my_table;\u001b[0m\n\u001b[1;37m           ^\u001b[0m\n\u001b[1;31mSyntaxError\u001b[0m\u001b[1;31m:\u001b[0m invalid syntax\n"
     ]
    }
   ],
   "source": [
    "import datastage\n",
    "\n",
    "job = datastage.Job('MainframeDataExtractJob')\n",
    "job.run()\n",
    "\n",
    "from pyspark.sql import SparkSession\n",
    "\n",
    "spark = SparkSession.builder.appName(\"DataTransformation\").getOrCreate()\n",
    "\n",
    "# Read data\n",
    "data = spark.read.csv(\"mainframe_data.csv\")\n",
    "\n",
    "# Transformation example: Change date format\n",
    "data = data.withColumn(\"new_date\", to_date(data[\"old_date\"], \"yyyyMMdd\"))\n",
    "\n",
    "# Save transformed data\n",
    "data.write.parquet(\"transformed_data.parquet\")\n",
    "\n",
    "import boto3\n",
    "\n",
    "# Set up AWS Redshift connection\n",
    "redshift = boto3.client('redshift')\n",
    "\n",
    "# Load data to Redshift\n",
    "redshift.copy_data(\"COPY my_table FROM 's3://my-bucket/transformed_data.parquet'\")\n",
    "\n",
    "# Check data completeness\n",
    "SELECT COUNT(*) FROM my_table;\n",
    "\n",
    "# Check data accuracy\n",
    "SELECT SUM(amount) FROM my_table WHERE date >= '2023-01-01';\n"
   ]
  },
  {
   "cell_type": "code",
   "execution_count": null,
   "id": "90a27a8c-3b7b-42ba-8bb8-c4990fb6684c",
   "metadata": {},
   "outputs": [],
   "source": []
  }
 ],
 "metadata": {
  "kernelspec": {
   "display_name": "Python 3 (ipykernel)",
   "language": "python",
   "name": "python3"
  },
  "language_info": {
   "codemirror_mode": {
    "name": "ipython",
    "version": 3
   },
   "file_extension": ".py",
   "mimetype": "text/x-python",
   "name": "python",
   "nbconvert_exporter": "python",
   "pygments_lexer": "ipython3",
   "version": "3.11.4"
  }
 },
 "nbformat": 4,
 "nbformat_minor": 5
}
