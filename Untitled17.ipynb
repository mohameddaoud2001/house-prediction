{
 "cells": [
  {
   "cell_type": "code",
   "execution_count": 1,
   "id": "83bd5e4f-dd82-44a2-9a2c-badbbc975ff1",
   "metadata": {},
   "outputs": [
    {
     "name": "stderr",
     "output_type": "stream",
     "text": [
      ".\n",
      "----------------------------------------------------------------------\n",
      "Ran 1 test in 0.003s\n",
      "\n",
      "OK\n"
     ]
    },
    {
     "data": {
      "text/plain": [
       "<unittest.runner.TextTestResult run=1 errors=0 failures=0>"
      ]
     },
     "execution_count": 1,
     "metadata": {},
     "output_type": "execute_result"
    }
   ],
   "source": [
    "import unittest\n",
    "\n",
    "# Define the function\n",
    "def add_numbers(a, b):\n",
    "    return a + b\n",
    "\n",
    "# Define the test case\n",
    "class TestAddition(unittest.TestCase):\n",
    "    def test_add_positive_numbers(self):\n",
    "        result = add_numbers(2, 3)\n",
    "        self.assertEqual(result, 5)\n",
    "\n",
    "# Create a test suite and add the test case\n",
    "test_suite = unittest.TestLoader().loadTestsFromTestCase(TestAddition)\n",
    "\n",
    "# Run the test suite\n",
    "unittest.TextTestRunner().run(test_suite)\n"
   ]
  },
  {
   "cell_type": "code",
   "execution_count": null,
   "id": "e9173e93-7abe-4a72-a763-1f2d93c29e31",
   "metadata": {},
   "outputs": [],
   "source": []
  }
 ],
 "metadata": {
  "kernelspec": {
   "display_name": "Python 3 (ipykernel)",
   "language": "python",
   "name": "python3"
  },
  "language_info": {
   "codemirror_mode": {
    "name": "ipython",
    "version": 3
   },
   "file_extension": ".py",
   "mimetype": "text/x-python",
   "name": "python",
   "nbconvert_exporter": "python",
   "pygments_lexer": "ipython3",
   "version": "3.11.4"
  }
 },
 "nbformat": 4,
 "nbformat_minor": 5
}
