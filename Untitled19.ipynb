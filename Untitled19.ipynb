{
 "cells": [
  {
   "cell_type": "code",
   "execution_count": null,
   "id": "fb7dec5a-d359-48ce-8b3a-a5a9fc18ebd7",
   "metadata": {},
   "outputs": [],
   "source": [
    "# Data Science Ecosystem"
   ]
  },
  {
   "cell_type": "code",
   "execution_count": 3,
   "id": "8f729182-ac2e-4c4e-b2c3-3c1e089014e3",
   "metadata": {},
   "outputs": [],
   "source": [
    "#In this notebook, Data Science Tools and Ecosystem are summarized."
   ]
  },
  {
   "cell_type": "code",
   "execution_count": 14,
   "id": "253afc85-611d-465a-a556-88d8507c5332",
   "metadata": {},
   "outputs": [],
   "source": [
    "#**Objectives:**\n",
    "\n",
    "#- Understand the basic principles of supervised learning.\n",
    "#- Explore the scikit-learn library and its capabilities.\n",
    "#- Learn how to preprocess and clean data for machine learning.\n",
    "#- Implement and evaluate various machine learning models.\n",
    "#- Gain insights into hyperparameter tuning and model selection.\n",
    "#- Interpret and visualize the results of machine learning experiments.\n"
   ]
  },
  {
   "cell_type": "code",
   "execution_count": 4,
   "id": "37378a2a-ce10-4f98-b5ab-1a12276c1f8b",
   "metadata": {},
   "outputs": [],
   "source": [
    "#Some of the popular languages that Data Scientists use are:\n",
    "#1. Python\n",
    "#2. R\n",
    "#3. Julia"
   ]
  },
  {
   "cell_type": "code",
   "execution_count": 5,
   "id": "00284407-2305-490c-b283-0df845164586",
   "metadata": {},
   "outputs": [],
   "source": [
    "#Some of the commonly used libraries used by Data Scientists include:\n",
    "#1. NumPy\n",
    "#2. Pandas\n",
    "#3. Scikit-Learn"
   ]
  },
  {
   "cell_type": "code",
   "execution_count": 8,
   "id": "75857b18-88ce-467a-8217-facd8db41c7f",
   "metadata": {},
   "outputs": [],
   "source": [
    "#| Data Science Tools |\n",
    "#|--------------------|\n",
    "#| google colab           |\n",
    "#| r studio             |\n",
    "#| jupyter notebook             |"
   ]
  },
  {
   "cell_type": "code",
   "execution_count": 10,
   "id": "18dd7e49-848e-4b23-a60d-5677defeba53",
   "metadata": {},
   "outputs": [],
   "source": [
    "### Below are a few examples of evaluating arithmetic expressions in Python: =, <\n"
   ]
  },
  {
   "cell_type": "code",
   "execution_count": 11,
   "id": "ff4a6536-c12c-4b20-80b3-acff146633ee",
   "metadata": {},
   "outputs": [
    {
     "data": {
      "text/plain": [
       "17"
      ]
     },
     "execution_count": 11,
     "metadata": {},
     "output_type": "execute_result"
    }
   ],
   "source": [
    "(3*4)+5"
   ]
  },
  {
   "cell_type": "code",
   "execution_count": 12,
   "id": "62cf0511-77c7-4965-a424-b0f45f417dd3",
   "metadata": {},
   "outputs": [
    {
     "data": {
      "text/plain": [
       "3.3333333333333335"
      ]
     },
     "execution_count": 12,
     "metadata": {},
     "output_type": "execute_result"
    }
   ],
   "source": [
    "# Convert 200 minutes to hours\n",
    "minutes = 200\n",
    "hours = minutes / 60\n",
    "hours\n"
   ]
  },
  {
   "cell_type": "code",
   "execution_count": 15,
   "id": "877e5225-3d7d-40a7-8262-278eeef5f392",
   "metadata": {},
   "outputs": [],
   "source": [
    "#author name: mohammed daoud"
   ]
  },
  {
   "cell_type": "code",
   "execution_count": 18,
   "id": "f15de3a0-1aa9-447e-98c5-5eb09554d72e",
   "metadata": {},
   "outputs": [
    {
     "name": "stdout",
     "output_type": "stream",
     "text": [
      "Reinitialized existing Git repository in C:/Users/mdaou/.jupyter/.git/\n"
     ]
    },
    {
     "name": "stderr",
     "output_type": "stream",
     "text": [
      "warning: in the working copy of 'Untitled19.ipynb', LF will be replaced by CRLF the next time Git touches it\n"
     ]
    },
    {
     "name": "stdout",
     "output_type": "stream",
     "text": [
      "[master 8fe465d2] Add my Jupyter Notebook\n",
      " 1 file changed, 19438 insertions(+), 2 deletions(-)\n"
     ]
    }
   ],
   "source": [
    "!git init\n",
    "!git add Untitled19.ipynb\n",
    "!git commit -m \"Add my Jupyter Notebook\""
   ]
  },
  {
   "cell_type": "code",
   "execution_count": null,
   "id": "0cc4a13c-684e-4308-84ff-d9bb224d5adf",
   "metadata": {},
   "outputs": [
    {
     "name": "stdout",
     "output_type": "stream",
     "text": [
      "Reinitialized existing Git repository in C:/Users/mdaou/.jupyter/.git/\n",
      "[master bb6f43d7] first commit\n",
      " 1 file changed, 1 insertion(+)\n",
      " create mode 100644 README.md\n"
     ]
    }
   ],
   "source": [
    "!echo \"# mynotebook\" >> README.md\n",
    "!git init\n",
    "!git add README.md\n",
    "!git commit -m \"first commit\"\n",
    "!git branch -M main\n",
    "!git remote add origin https://github.com/mohameddaoud2001/mynotebook.git\n",
    "!git push -u origin main"
   ]
  },
  {
   "cell_type": "code",
   "execution_count": null,
   "id": "c7af1bbb-4a33-46a9-be29-2786d23e60b2",
   "metadata": {},
   "outputs": [
    {
     "name": "stderr",
     "output_type": "stream",
     "text": [
      "error: remote origin already exists.\n"
     ]
    }
   ],
   "source": [
    "!git remote add origin https://github.com/mohameddaoud2001/mynotebook.git\n",
    "!git branch -M main\n",
    "!git push -u origin main"
   ]
  },
  {
   "cell_type": "code",
   "execution_count": null,
   "id": "612edae0-5670-47be-9d34-ccd426ec840d",
   "metadata": {},
   "outputs": [],
   "source": []
  }
 ],
 "metadata": {
  "kernelspec": {
   "display_name": "Python 3 (ipykernel)",
   "language": "python",
   "name": "python3"
  },
  "language_info": {
   "codemirror_mode": {
    "name": "ipython",
    "version": 3
   },
   "file_extension": ".py",
   "mimetype": "text/x-python",
   "name": "python",
   "nbconvert_exporter": "python",
   "pygments_lexer": "ipython3",
   "version": "3.11.4"
  }
 },
 "nbformat": 4,
 "nbformat_minor": 5
}
