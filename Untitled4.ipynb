{
 "cells": [
  {
   "cell_type": "code",
   "execution_count": 1,
   "id": "bf3c595d-5fac-43ac-a596-4d68f6c8ad0c",
   "metadata": {},
   "outputs": [
    {
     "name": "stdout",
     "output_type": "stream",
     "text": [
      "                          PanelOLS Estimation Summary                           \n",
      "================================================================================\n",
      "Dep. Variable:                      Y   R-squared:                        0.0000\n",
      "Estimator:                   PanelOLS   R-squared (Between):              0.0000\n",
      "No. Observations:                   6   R-squared (Within):               0.0000\n",
      "Date:                Tue, Oct 03 2023   R-squared (Overall):              0.0000\n",
      "Time:                        09:43:36   Log-likelihood                   -7.6506\n",
      "Cov. Estimator:            Unadjusted                                           \n",
      "                                        F-statistic:                          --\n",
      "Entities:                           3   P-value                               --\n",
      "Avg Obs:                       2.0000   Distribution:                         --\n",
      "Min Obs:                       2.0000                                           \n",
      "Max Obs:                       2.0000   F-statistic (robust):                 --\n",
      "                                        P-value                               --\n",
      "Time periods:                       2   Distribution:                         --\n",
      "Avg Obs:                       3.0000                                           \n",
      "Min Obs:                       3.0000                                           \n",
      "Max Obs:                       3.0000                                           \n",
      "                                                                                \n",
      "                             Parameter Estimates                              \n",
      "==============================================================================\n",
      "            Parameter  Std. Err.     T-stat    P-value    Lower CI    Upper CI\n",
      "------------------------------------------------------------------------------\n",
      "Intercept      11.833     0.5000     23.667     0.0002      10.242      13.425\n",
      "==============================================================================\n",
      "\n",
      "F-test for Poolability: 19.444\n",
      "P-value: 0.0192\n",
      "Distribution: F(2,3)\n",
      "\n",
      "Included effects: Entity\n"
     ]
    }
   ],
   "source": [
    "import pandas as pd\n",
    "from linearmodels.panel import PanelOLS\n",
    "\n",
    "# Sample data\n",
    "data = pd.DataFrame({\n",
    "    'entity_id': ['A', 'A', 'B', 'B', 'C', 'C'],\n",
    "    'time': [1, 2, 1, 2, 1, 2],\n",
    "    'Y': [10, 12, 8, 9, 15, 17],\n",
    "    'X1': [5, 6, 4, 4, 7, 8],\n",
    "    'X2': [2, 3, 2, 2, 3, 4]\n",
    "})\n",
    "\n",
    "# Specify the entity and time dimensions\n",
    "data = data.set_index(['entity_id', 'time'])\n",
    "\n",
    "# Specify your regression formula with entity fixed effects\n",
    "formula = 'Y ~ 1 + EntityEffects'\n",
    "\n",
    "# Estimate a panel data model with entity fixed effects\n",
    "model = PanelOLS.from_formula(formula, data)\n",
    "results = model.fit()\n",
    "\n",
    "# Print the regression results\n",
    "print(results)\n"
   ]
  },
  {
   "cell_type": "code",
   "execution_count": 2,
   "id": "fda7b44c-307e-457b-aee4-ef8f16a83092",
   "metadata": {},
   "outputs": [],
   "source": [
    "import requests\n",
    "from bs4 import BeautifulSoup\n",
    "\n",
    "# Define the URL of the website you want to scrape\n",
    "url = 'https://edition.cnn.com/'\n",
    "\n",
    "# Send an HTTP GET request to the URL\n",
    "response = requests.get(url)\n",
    "\n",
    "# Check if the request was successful (status code 200)\n",
    "if response.status_code == 200:\n",
    "    # Parse the HTML content of the page using BeautifulSoup\n",
    "    soup = BeautifulSoup(response.text, 'html.parser')\n",
    "    \n",
    "    # Find and extract the news article headlines\n",
    "    headlines = soup.find_all('h2', class_='article-title')\n",
    "    \n",
    "    # Loop through the headlines and print them\n",
    "    for headline in headlines:\n",
    "        print(headline.text)\n",
    "else:\n",
    "    print('Failed to retrieve the webpage.')"
   ]
  },
  {
   "cell_type": "code",
   "execution_count": null,
   "id": "a6c39c6f-13ab-4108-924d-9678a6e59bfc",
   "metadata": {},
   "outputs": [],
   "source": []
  }
 ],
 "metadata": {
  "kernelspec": {
   "display_name": "Python 3 (ipykernel)",
   "language": "python",
   "name": "python3"
  },
  "language_info": {
   "codemirror_mode": {
    "name": "ipython",
    "version": 3
   },
   "file_extension": ".py",
   "mimetype": "text/x-python",
   "name": "python",
   "nbconvert_exporter": "python",
   "pygments_lexer": "ipython3",
   "version": "3.11.4"
  }
 },
 "nbformat": 4,
 "nbformat_minor": 5
}
