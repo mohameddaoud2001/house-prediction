{
 "cells": [
  {
   "cell_type": "code",
   "execution_count": 1,
   "id": "47179ecb-b3a7-4a4c-99be-34972f7df568",
   "metadata": {},
   "outputs": [],
   "source": [
    "import requests\n",
    "from bs4 import BeautifulSoup\n"
   ]
  },
  {
   "cell_type": "code",
   "execution_count": 5,
   "id": "e279b1bd-c102-4b38-b51d-cf02af3d5cd2",
   "metadata": {},
   "outputs": [],
   "source": [
    "url = 'https://edition.cnn.com/'  # Replace with the URL of the website you want to scrape\n",
    "response = requests.get(url)\n"
   ]
  },
  {
   "cell_type": "code",
   "execution_count": 6,
   "id": "ed4f1bde-505c-44a7-a990-a2060697159f",
   "metadata": {},
   "outputs": [],
   "source": [
    "soup = BeautifulSoup(response.text, 'html.parser')\n"
   ]
  },
  {
   "cell_type": "code",
   "execution_count": 7,
   "id": "a963b45f-39bb-4f74-8cd3-7e910d555b98",
   "metadata": {},
   "outputs": [],
   "source": [
    "headlines = []\n",
    "links = []\n",
    "\n",
    "for article in soup.find_all('article'):\n",
    "    headline = article.h2.text\n",
    "    link = article.a['href']\n",
    "\n",
    "    headlines.append(headline)\n",
    "    links.append(link)\n"
   ]
  },
  {
   "cell_type": "code",
   "execution_count": 8,
   "id": "ba1d3dc0-fa4e-4084-b002-40c6cc9dfb1f",
   "metadata": {},
   "outputs": [],
   "source": [
    "import csv\n",
    "\n",
    "data = {'Headlines': headlines, 'Links': links}\n",
    "\n",
    "with open('news_data.csv', 'w', newline='') as csvfile:\n",
    "    fieldnames = ['Headlines', 'Links']\n",
    "    writer = csv.DictWriter(csvfile, fieldnames=fieldnames)\n",
    "    writer.writeheader()\n",
    "    for i in range(len(headlines)):\n",
    "        writer.writerow({'Headlines': headlines[i], 'Links': links[i]})\n"
   ]
  },
  {
   "cell_type": "code",
   "execution_count": null,
   "id": "ed26e562-f4ed-44df-b800-b647665bec86",
   "metadata": {},
   "outputs": [],
   "source": []
  }
 ],
 "metadata": {
  "kernelspec": {
   "display_name": "Python 3 (ipykernel)",
   "language": "python",
   "name": "python3"
  },
  "language_info": {
   "codemirror_mode": {
    "name": "ipython",
    "version": 3
   },
   "file_extension": ".py",
   "mimetype": "text/x-python",
   "name": "python",
   "nbconvert_exporter": "python",
   "pygments_lexer": "ipython3",
   "version": "3.11.4"
  }
 },
 "nbformat": 4,
 "nbformat_minor": 5
}
