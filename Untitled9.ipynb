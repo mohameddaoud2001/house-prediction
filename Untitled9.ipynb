{
 "cells": [
  {
   "cell_type": "code",
   "execution_count": 1,
   "id": "8205041e-be17-423e-9c48-965b66a8761d",
   "metadata": {},
   "outputs": [],
   "source": [
    "import pandas as pd\n",
    "\n",
    "data = {\n",
    "    'Student ID': [101, 102, 103, 104, 105, 106, 107, 108, 109, 110],\n",
    "    'Name': ['Alice', 'Bob', 'Charlie', 'David', 'Eva', 'Frank', 'Grace', 'Hannah', 'Ivy', 'Jack'],\n",
    "    'Age': [20, 22, 19, 'Twenty', 21, 18, None, 23, 20, 22],\n",
    "    'Grade': ['A', 'B', 'C', 'A', 'A', 'D', 'B', 'C', 'F', 'B'],\n",
    "    'Gender': ['Female', 'Male', 'Male', 'Female', 'Other', 'Male', 'Female', 'Female', 'Female', 'Male']\n",
    "}\n",
    "\n",
    "df = pd.DataFrame(data)\n",
    "df.to_csv('student_data_with_errors.csv', index=False)\n"
   ]
  },
  {
   "cell_type": "code",
   "execution_count": 2,
   "id": "762ab8bf-98f5-4681-b9e4-be59cad63590",
   "metadata": {},
   "outputs": [
    {
     "name": "stdout",
     "output_type": "stream",
     "text": [
      "Missing Values:\n",
      "Student ID    0\n",
      "Name          0\n",
      "Age           1\n",
      "Grade         0\n",
      "Gender        0\n",
      "dtype: int64\n",
      "\n",
      "Duplicate Rows:\n",
      "Empty DataFrame\n",
      "Columns: [Student ID, Name, Age, Grade, Gender]\n",
      "Index: []\n"
     ]
    }
   ],
   "source": [
    "# Step 2.1: Load the dataset\n",
    "df = pd.read_csv('student_data_with_errors.csv')\n",
    "\n",
    "# Step 2.2: Check for missing values\n",
    "missing_values = df.isnull().sum()\n",
    "print(\"Missing Values:\")\n",
    "print(missing_values)\n",
    "\n",
    "# Step 2.3: Convert non-numeric Age values to NaN\n",
    "df['Age'] = pd.to_numeric(df['Age'], errors='coerce')\n",
    "\n",
    "# Step 2.4: Replace incorrect Gender values\n",
    "df['Gender'] = df['Gender'].replace('Other', 'Unknown')\n",
    "\n",
    "# Step 2.5: Check for duplicate rows\n",
    "duplicate_rows = df[df.duplicated()]\n",
    "print(\"\\nDuplicate Rows:\")\n",
    "print(duplicate_rows)\n",
    "\n",
    "# Step 2.6: Remove duplicates\n",
    "df = df.drop_duplicates()\n",
    "\n",
    "# Step 2.7: Save the cleaned dataset\n",
    "df.to_csv('cleaned_student_data.csv', index=False)\n"
   ]
  },
  {
   "cell_type": "code",
   "execution_count": null,
   "id": "9b38dba9-4a02-41fd-950e-06d4b96dee0a",
   "metadata": {},
   "outputs": [],
   "source": []
  }
 ],
 "metadata": {
  "kernelspec": {
   "display_name": "Python 3 (ipykernel)",
   "language": "python",
   "name": "python3"
  },
  "language_info": {
   "codemirror_mode": {
    "name": "ipython",
    "version": 3
   },
   "file_extension": ".py",
   "mimetype": "text/x-python",
   "name": "python",
   "nbconvert_exporter": "python",
   "pygments_lexer": "ipython3",
   "version": "3.11.4"
  }
 },
 "nbformat": 4,
 "nbformat_minor": 5
}
