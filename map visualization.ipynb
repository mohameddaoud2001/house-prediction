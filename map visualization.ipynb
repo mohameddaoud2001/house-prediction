{
 "cells": [
  {
   "cell_type": "code",
   "execution_count": 1,
   "id": "98e8f085-401b-47b7-b42e-72f5efcec938",
   "metadata": {},
   "outputs": [],
   "source": [
    "import folium\n",
    "import pandas as pd\n",
    "\n",
    "# Create a Folium Map centered on the United States\n",
    "m = folium.Map(location=[37.0902, -95.7129], zoom_start=4)\n",
    "\n",
    "# Sample population data for US states (replace with your own data)\n",
    "data = pd.DataFrame({\n",
    "    'State': ['Alabama', 'Alaska', 'Arizona', 'Arkansas', 'California'],\n",
    "    'Population': [4903185, 731000, 7278717, 3017825, 39538223]\n",
    "})\n",
    "\n",
    "# Add the Choropleth layer using Folium's built-in GeoJSON for US states\n",
    "folium.Choropleth(\n",
    "    geo_data='us-states.json',  # Folium's built-in GeoJSON for US states\n",
    "    name='choropleth',\n",
    "    data=data,\n",
    "    columns=['State', 'Population'],\n",
    "    key_on='feature.properties.name',\n",
    "    fill_color='YlGn',\n",
    "    fill_opacity=0.7,\n",
    "    line_opacity=0.2,\n",
    "    legend_name='Population by State'\n",
    ").add_to(m)\n",
    "\n",
    "# Save the map to an HTML file\n",
    "m.save('us_states_choropleth.html')\n"
   ]
  },
  {
   "cell_type": "code",
   "execution_count": null,
   "id": "07ecc4fd-b575-4729-b7d6-840cd109f180",
   "metadata": {},
   "outputs": [],
   "source": []
  }
 ],
 "metadata": {
  "kernelspec": {
   "display_name": "Python 3 (ipykernel)",
   "language": "python",
   "name": "python3"
  },
  "language_info": {
   "codemirror_mode": {
    "name": "ipython",
    "version": 3
   },
   "file_extension": ".py",
   "mimetype": "text/x-python",
   "name": "python",
   "nbconvert_exporter": "python",
   "pygments_lexer": "ipython3",
   "version": "3.11.4"
  }
 },
 "nbformat": 4,
 "nbformat_minor": 5
}
