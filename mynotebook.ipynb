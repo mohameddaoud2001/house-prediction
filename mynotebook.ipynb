{
 "cells": [
  {
   "cell_type": "code",
   "execution_count": 1,
   "id": "fb7dec5a-d359-48ce-8b3a-a5a9fc18ebd7",
   "metadata": {},
   "outputs": [],
   "source": [
    "# Data Science Ecosystem"
   ]
  },
  {
   "cell_type": "code",
   "execution_count": 2,
   "id": "8f729182-ac2e-4c4e-b2c3-3c1e089014e3",
   "metadata": {},
   "outputs": [],
   "source": [
    "#In this notebook, Data Science Tools and Ecosystem are summarized."
   ]
  },
  {
   "cell_type": "code",
   "execution_count": 4,
   "id": "253afc85-611d-465a-a556-88d8507c5332",
   "metadata": {},
   "outputs": [],
   "source": [
    "#**Objectives:**\n",
    "\n",
    "#- Understand the basic principles of supervised learning.\n",
    "#- Explore the scikit-learn library and its capabilities.\n",
    "#- Learn how to preprocess and clean data for machine learning.\n",
    "#- Implement and evaluate various machine learning models.\n",
    "#- Gain insights into hyperparameter tuning and model selection.\n",
    "#- Interpret and visualize the results of machine learning experiments.\n"
   ]
  },
  {
   "cell_type": "code",
   "execution_count": 5,
   "id": "37378a2a-ce10-4f98-b5ab-1a12276c1f8b",
   "metadata": {},
   "outputs": [],
   "source": [
    "#Some of the popular languages that Data Scientists use are:\n",
    "#1. Python\n",
    "#2. R\n",
    "#3. Julia"
   ]
  },
  {
   "cell_type": "code",
   "execution_count": 5,
   "id": "00284407-2305-490c-b283-0df845164586",
   "metadata": {},
   "outputs": [],
   "source": [
    "#Some of the commonly used libraries used by Data Scientists include:\n",
    "#1. NumPy\n",
    "#2. Pandas\n",
    "#3. Scikit-Learn"
   ]
  },
  {
   "cell_type": "code",
   "execution_count": 12,
   "id": "75857b18-88ce-467a-8217-facd8db41c7f",
   "metadata": {},
   "outputs": [
    {
     "name": "stderr",
     "output_type": "stream",
     "text": [
      "To https://github.com/mohameddaoud2001/mynotebook.git\n",
      " * [new branch]        main -> main\n"
     ]
    },
    {
     "name": "stdout",
     "output_type": "stream",
     "text": [
      "branch 'main' set up to track 'origin/main'.\n"
     ]
    }
   ],
   "source": [
    "#| Data Science Tools |\n",
    "#|--------------------|\n",
    "#| google colab           |\n",
    "#| r studio             |\n",
    "#| jupyter notebook             |"
   ]
  },
  {
   "cell_type": "code",
   "execution_count": 11,
   "id": "18dd7e49-848e-4b23-a60d-5677defeba53",
   "metadata": {},
   "outputs": [],
   "source": [
    "### Below are a few examples of evaluating arithmetic expressions in Python: =, <\n"
   ]
  },
  {
   "cell_type": "code",
   "execution_count": 10,
   "id": "ff4a6536-c12c-4b20-80b3-acff146633ee",
   "metadata": {},
   "outputs": [
    {
     "data": {
      "text/plain": [
       "17"
      ]
     },
     "execution_count": 10,
     "metadata": {},
     "output_type": "execute_result"
    }
   ],
   "source": [
    "(3*4)+5"
   ]
  },
  {
   "cell_type": "code",
   "execution_count": 9,
   "id": "62cf0511-77c7-4965-a424-b0f45f417dd3",
   "metadata": {},
   "outputs": [
    {
     "data": {
      "text/plain": [
       "3.3333333333333335"
      ]
     },
     "execution_count": 9,
     "metadata": {},
     "output_type": "execute_result"
    }
   ],
   "source": [
    "# Convert 200 minutes to hours\n",
    "minutes = 200\n",
    "hours = minutes / 60\n",
    "hours\n"
   ]
  },
  {
   "cell_type": "code",
   "execution_count": 13,
   "id": "877e5225-3d7d-40a7-8262-278eeef5f392",
   "metadata": {},
   "outputs": [],
   "source": [
    "#author name: mohammed daoud"
   ]
  },
  {
   "cell_type": "code",
   "execution_count": null,
   "id": "b932bd79-206e-4539-8e84-ce247e3fce12",
   "metadata": {},
   "outputs": [],
   "source": []
  }
 ],
 "metadata": {
  "kernelspec": {
   "display_name": "Python 3 (ipykernel)",
   "language": "python",
   "name": "python3"
  },
  "language_info": {
   "codemirror_mode": {
    "name": "ipython",
    "version": 3
   },
   "file_extension": ".py",
   "mimetype": "text/x-python",
   "name": "python",
   "nbconvert_exporter": "python",
   "pygments_lexer": "ipython3",
   "version": "3.11.4"
  }
 },
 "nbformat": 4,
 "nbformat_minor": 5
}
